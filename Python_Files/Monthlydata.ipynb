{
 "cells": [
  {
   "cell_type": "code",
   "execution_count": 1,
   "metadata": {},
   "outputs": [],
   "source": [
    "import pandas as pd"
   ]
  },
  {
   "cell_type": "code",
   "execution_count": 2,
   "metadata": {},
   "outputs": [],
   "source": [
    "df=pd.read_csv('New_sunday_oberver.csv')"
   ]
  },
  {
   "cell_type": "code",
   "execution_count": 60,
   "metadata": {},
   "outputs": [
    {
     "data": {
      "text/plain": [
       "0       17 January 2021\n",
       "1          14 June 2020\n",
       "2      14 February 2021\n",
       "3       8 December 2019\n",
       "4         14 March 2021\n",
       "             ...       \n",
       "474       8 August 2021\n",
       "475        12 June 2021\n",
       "476          3 May 2020\n",
       "477      4 October 2020\n",
       "478        1 March 2020\n",
       "Name: Date, Length: 479, dtype: object"
      ]
     },
     "execution_count": 60,
     "metadata": {},
     "output_type": "execute_result"
    }
   ],
   "source": [
    "da"
   ]
  },
  {
   "cell_type": "code",
   "execution_count": 67,
   "metadata": {},
   "outputs": [
    {
     "data": {
      "text/plain": [
       "1"
      ]
     },
     "execution_count": 67,
     "metadata": {},
     "output_type": "execute_result"
    }
   ],
   "source": [
    "c"
   ]
  },
  {
   "cell_type": "code",
   "execution_count": 51,
   "metadata": {},
   "outputs": [],
   "source": [
    "d='17 January 2021'"
   ]
  },
  {
   "cell_type": "code",
   "execution_count": 52,
   "metadata": {},
   "outputs": [],
   "source": [
    "date_expect= d.split()[1:]\n",
    "date=date_expect[0]+' '+date_expect[1]"
   ]
  },
  {
   "cell_type": "code",
   "execution_count": 53,
   "metadata": {},
   "outputs": [
    {
     "data": {
      "text/plain": [
       "['January', '2021']"
      ]
     },
     "execution_count": 53,
     "metadata": {},
     "output_type": "execute_result"
    }
   ],
   "source": [
    "date_expect"
   ]
  },
  {
   "cell_type": "code",
   "execution_count": 47,
   "metadata": {},
   "outputs": [],
   "source": [
    "da=df['Date']\n",
    "c=df['Content']"
   ]
  },
  {
   "cell_type": "code",
   "execution_count": 68,
   "metadata": {},
   "outputs": [],
   "source": [
    "c=df['Content']"
   ]
  },
  {
   "cell_type": "code",
   "execution_count": 69,
   "metadata": {},
   "outputs": [
    {
     "data": {
      "text/plain": [
       "0      In an increasingly competitive world, people h...\n",
       "1      Now that Sri Lanka has achieved notable succes...\n",
       "2      Officials of the Securities and Exchange Commi...\n",
       "3      The Colombo Stock Exchange (CSE) is ready with...\n",
       "4      Kala Pola - Sri Lanka’s annual art fair showca...\n",
       "                             ...                        \n",
       "474    Sri Lanka is fast becoming a strategic hub in ...\n",
       "475    Insee Cement marked the launch of the ‘UN Deca...\n",
       "476    Growing pressure on Sri Lanka’s scarce foreign...\n",
       "477    The Colombo Stock Exchange (CSE) has recorded ...\n",
       "478    Poland is keen to enter into a Free Trade Agre...\n",
       "Name: Content, Length: 479, dtype: object"
      ]
     },
     "execution_count": 69,
     "metadata": {},
     "output_type": "execute_result"
    }
   ],
   "source": [
    "c"
   ]
  },
  {
   "cell_type": "code",
   "execution_count": 20,
   "metadata": {},
   "outputs": [
    {
     "data": {
      "text/plain": [
       "'17 January 2021'"
      ]
     },
     "execution_count": 20,
     "metadata": {},
     "output_type": "execute_result"
    }
   ],
   "source": [
    "d[0]"
   ]
  },
  {
   "cell_type": "code",
   "execution_count": 74,
   "metadata": {},
   "outputs": [],
   "source": [
    "da=df['Date']\n",
    "c=df['Content']\n",
    "dic={}\n",
    "for j in range(len(df)):\n",
    "    date_expect= da[j].split()[1:]#seee\n",
    "    dat=date_expect[0]+\" \"+date_expect[1]\n",
    "    content=c[j]\n",
    "    if dat in dic.keys():\n",
    "        dic[dat].append(content)  \n",
    "    else:\n",
    "        dic[dat] = [content"
   ]
  },
  {
   "cell_type": "code",
   "execution_count": 80,
   "metadata": {},
   "outputs": [
    {
     "data": {
      "text/plain": [
       "28"
      ]
     },
     "execution_count": 80,
     "metadata": {},
     "output_type": "execute_result"
    }
   ],
   "source": [
    "len(d['January 2021'])"
   ]
  },
  {
   "cell_type": "code",
   "execution_count": 84,
   "metadata": {},
   "outputs": [
    {
     "data": {
      "text/plain": [
       "dict_keys(['January 2021', 'June 2020', 'February 2021', 'December 2019', 'March 2021', 'March 2020', 'February 2020', 'July 2021', 'September 2021', 'August 2020', 'July 2020', 'December 2020', 'August 2021', 'May 2020', 'May 2021', 'November 2020', 'January 2020', 'October 2020', 'September 2020', 'April 2021', 'June 2017', 'June 2021', 'March 2017', 'April 2020', 'January 2019', 'November 2017', 'November 2018', 'May 2019', 'August 2017', 'July 2018', 'May 2017', 'July 2019', 'February 2018', 'September 2017', 'July 2017'])"
      ]
     },
     "execution_count": 84,
     "metadata": {},
     "output_type": "execute_result"
    }
   ],
   "source": [
    "d.keys()"
   ]
  },
  {
   "cell_type": "code",
   "execution_count": null,
   "metadata": {},
   "outputs": [],
   "source": []
  },
  {
   "cell_type": "code",
   "execution_count": 89,
   "metadata": {},
   "outputs": [
    {
     "data": {
      "text/plain": [
       "28"
      ]
     },
     "execution_count": 89,
     "metadata": {},
     "output_type": "execute_result"
    }
   ],
   "source": [
    "len(d['January 2021'])"
   ]
  },
  {
   "cell_type": "code",
   "execution_count": null,
   "metadata": {},
   "outputs": [],
   "source": []
  }
 ],
 "metadata": {
  "kernelspec": {
   "display_name": "Python 3",
   "language": "python",
   "name": "python3"
  },
  "language_info": {
   "codemirror_mode": {
    "name": "ipython",
    "version": 3
   },
   "file_extension": ".py",
   "mimetype": "text/x-python",
   "name": "python",
   "nbconvert_exporter": "python",
   "pygments_lexer": "ipython3",
   "version": "3.7.6"
  }
 },
 "nbformat": 4,
 "nbformat_minor": 4
}
