{
 "cells": [
  {
   "cell_type": "code",
   "execution_count": 2,
   "metadata": {},
   "outputs": [],
   "source": [
    "import pandas as pd "
   ]
  },
  {
   "cell_type": "code",
   "execution_count": 34,
   "metadata": {},
   "outputs": [],
   "source": [
    "df1=pd.read_csv('New_sunday_oberver.csv')\n",
    "df22=pd.read_csv('dailyft_batch0000-1500.csv')"
   ]
  },
  {
   "cell_type": "code",
   "execution_count": 112,
   "metadata": {},
   "outputs": [
    {
     "data": {
      "text/html": [
       "<div>\n",
       "<style scoped>\n",
       "    .dataframe tbody tr th:only-of-type {\n",
       "        vertical-align: middle;\n",
       "    }\n",
       "\n",
       "    .dataframe tbody tr th {\n",
       "        vertical-align: top;\n",
       "    }\n",
       "\n",
       "    .dataframe thead th {\n",
       "        text-align: right;\n",
       "    }\n",
       "</style>\n",
       "<table border=\"1\" class=\"dataframe\">\n",
       "  <thead>\n",
       "    <tr style=\"text-align: right;\">\n",
       "      <th></th>\n",
       "      <th>Date</th>\n",
       "      <th>Title</th>\n",
       "      <th>Content</th>\n",
       "    </tr>\n",
       "  </thead>\n",
       "  <tbody>\n",
       "    <tr>\n",
       "      <th>0</th>\n",
       "      <td>17 January 2021</td>\n",
       "      <td>Clearing the hiring hurdles</td>\n",
       "      <td>In an increasingly competitive world, people h...</td>\n",
       "    </tr>\n",
       "    <tr>\n",
       "      <th>1</th>\n",
       "      <td>14 June 2020</td>\n",
       "      <td>Only the fast and nimble will survive - Pathfi...</td>\n",
       "      <td>Now that Sri Lanka has achieved notable succes...</td>\n",
       "    </tr>\n",
       "    <tr>\n",
       "      <th>2</th>\n",
       "      <td>14 February 2021</td>\n",
       "      <td>SEC and CSE meet stockbrokers</td>\n",
       "      <td>Officials of the Securities and Exchange Commi...</td>\n",
       "    </tr>\n",
       "    <tr>\n",
       "      <th>3</th>\n",
       "      <td>8 December 2019</td>\n",
       "      <td>Shares to be listed and traded in foreign curr...</td>\n",
       "      <td>The Colombo Stock Exchange (CSE) is ready with...</td>\n",
       "    </tr>\n",
       "    <tr>\n",
       "      <th>4</th>\n",
       "      <td>14 March 2021</td>\n",
       "      <td>Kala Pola 2021 goes online!</td>\n",
       "      <td>Kala Pola - Sri Lanka’s annual art fair showca...</td>\n",
       "    </tr>\n",
       "  </tbody>\n",
       "</table>\n",
       "</div>"
      ],
      "text/plain": [
       "               Date                                              Title  \\\n",
       "0   17 January 2021                        Clearing the hiring hurdles   \n",
       "1      14 June 2020  Only the fast and nimble will survive - Pathfi...   \n",
       "2  14 February 2021                      SEC and CSE meet stockbrokers   \n",
       "3   8 December 2019  Shares to be listed and traded in foreign curr...   \n",
       "4     14 March 2021                        Kala Pola 2021 goes online!   \n",
       "\n",
       "                                             Content  \n",
       "0  In an increasingly competitive world, people h...  \n",
       "1  Now that Sri Lanka has achieved notable succes...  \n",
       "2  Officials of the Securities and Exchange Commi...  \n",
       "3  The Colombo Stock Exchange (CSE) is ready with...  \n",
       "4  Kala Pola - Sri Lanka’s annual art fair showca...  "
      ]
     },
     "execution_count": 112,
     "metadata": {},
     "output_type": "execute_result"
    }
   ],
   "source": [
    "df1.head()"
   ]
  },
  {
   "cell_type": "code",
   "execution_count": 81,
   "metadata": {},
   "outputs": [],
   "source": [
    "text1=df1['Content']"
   ]
  },
  {
   "cell_type": "code",
   "execution_count": 78,
   "metadata": {},
   "outputs": [],
   "source": [
    "df22.rename(columns = {df22.columns[2]:'Content'},inplace = True)"
   ]
  },
  {
   "cell_type": "code",
   "execution_count": 80,
   "metadata": {},
   "outputs": [],
   "source": [
    "text2=df22['Content']"
   ]
  },
  {
   "cell_type": "code",
   "execution_count": 104,
   "metadata": {},
   "outputs": [],
   "source": [
    "import numpy as np"
   ]
  },
  {
   "cell_type": "code",
   "execution_count": 91,
   "metadata": {},
   "outputs": [],
   "source": [
    "df=pd.concat([text1,text2], axis=0,ignore_index=True)"
   ]
  },
  {
   "cell_type": "code",
   "execution_count": 83,
   "metadata": {},
   "outputs": [],
   "source": [
    "import re \n",
    "def remove_links(text):\n",
    "   \n",
    "    remove_https = re.sub(r'http\\S+', '', text)\n",
    "    # Remove all the occurrences of text that ends with .com\n",
    "    remove_com = re.sub(r\"\\ [A-Za-z]*\\.com\", \" \", remove_https)\n",
    "    return remove_com"
   ]
  },
  {
   "cell_type": "code",
   "execution_count": 84,
   "metadata": {},
   "outputs": [],
   "source": [
    "def remove_whitespace(text):\n",
    "    pattern = re.compile(r'\\s+') \n",
    "    Without_whitespace = re.sub(pattern, ' ', text)\n",
    "    # There are some instances where there is no space after '?' & ')', \n",
    "    # So I am replacing these with one space so that It will not consider two words as one token.\n",
    "    \n",
    "    text = Without_whitespace.replace('?', ' ? ').replace(')', ') ')\n",
    "    return text"
   ]
  },
  {
   "cell_type": "code",
   "execution_count": 85,
   "metadata": {},
   "outputs": [],
   "source": [
    "def RSproblem(text):\n",
    "    text1 = re.sub('Rs.',  '$', text)\n",
    "    text2=re.sub('Rupees',  '$', text1)\n",
    "    return text2"
   ]
  },
  {
   "cell_type": "code",
   "execution_count": 95,
   "metadata": {},
   "outputs": [],
   "source": [
    "T=df[199]"
   ]
  },
  {
   "cell_type": "code",
   "execution_count": 96,
   "metadata": {},
   "outputs": [],
   "source": [
    "def preprocess(text):\n",
    "    final_text=remove_whitespace(remove_links(text))\n",
    "    fin_text=RSproblem(final_text)\n",
    "    return fin_text"
   ]
  },
  {
   "cell_type": "code",
   "execution_count": 97,
   "metadata": {},
   "outputs": [],
   "source": [
    "s=preprocess(T)"
   ]
  },
  {
   "cell_type": "code",
   "execution_count": 98,
   "metadata": {},
   "outputs": [],
   "source": [
    "df = df.dropna()"
   ]
  },
  {
   "cell_type": "code",
   "execution_count": 99,
   "metadata": {},
   "outputs": [],
   "source": [
    "import re\n",
    "alphabets= \"([A-Za-z])\"\n",
    "prefixes = \"(Mr|St|Mrs|Ms|Dr)[.]\"\n",
    "suffixes = \"(Inc|Ltd|Jr|Sr|Co)\"\n",
    "starters = \"(Mr|Mrs|Ms|Dr|He\\s|She\\s|It\\s|They\\s|Their\\s|Our\\s|We\\s|But\\s|However\\s|That\\s|This\\s|Wherever)\"\n",
    "acronyms = \"([A-Z][.][A-Z][.](?:[A-Z][.])?)\"\n",
    "websites = \"[.](com|net|org|io|gov)\"\n",
    "\n",
    "def split_into_sentences(text):\n",
    "    text = \" \" + text + \"  \"\n",
    "    text = text.replace(\"\\n\",\" \")\n",
    "    text = re.sub(prefixes,\"\\\\1<prd>\",text)\n",
    "    text = re.sub(websites,\"<prd>\\\\1\",text)\n",
    "    if \"Ph.D\" in text: text = text.replace(\"Ph.D.\",\"Ph<prd>D<prd>\")\n",
    "    text = re.sub(\"\\s\" + alphabets + \"[.] \",\" \\\\1<prd> \",text)\n",
    "    text = re.sub(acronyms+\" \"+starters,\"\\\\1<stop> \\\\2\",text)\n",
    "    text = re.sub(alphabets + \"[.]\" + alphabets + \"[.]\" + alphabets + \"[.]\",\"\\\\1<prd>\\\\2<prd>\\\\3<prd>\",text)\n",
    "    text = re.sub(alphabets + \"[.]\" + alphabets + \"[.]\",\"\\\\1<prd>\\\\2<prd>\",text)\n",
    "    text = re.sub(\" \"+suffixes+\"[.] \"+starters,\" \\\\1<stop> \\\\2\",text)\n",
    "    text = re.sub(\" \"+suffixes+\"[.]\",\" \\\\1<prd>\",text)\n",
    "    text = re.sub(\" \" + alphabets + \"[.]\",\" \\\\1<prd>\",text)\n",
    "    if \"”\" in text: text = text.replace(\".”\",\"”.\")\n",
    "    if \"\\\"\" in text: text = text.replace(\".\\\"\",\"\\\".\")\n",
    "    if \"!\" in text: text = text.replace(\"!\\\"\",\"\\\"!\")\n",
    "    if \"?\" in text: text = text.replace(\"?\\\"\",\"\\\"?\")\n",
    "    text = text.replace(\"?\",\".\")\n",
    "    text = text.replace(\"<prd>\",\".\")\n",
    "    #sentences = text.split(\"<stop>\")\n",
    "    #sentences = sentences[:-1]\n",
    "    #sentences = [s.strip() for s in sentences]\n",
    "    sentences=decimal_split(text)\n",
    "    return sentences"
   ]
  },
  {
   "cell_type": "code",
   "execution_count": 100,
   "metadata": {},
   "outputs": [],
   "source": [
    "def decimal_split(string1):\n",
    "    # replace dots that have numbers around them with \"[PROTECTED_DOT]\"\n",
    "    string1_protected = re.sub(r\"(\\d)\\.(\\d)\", r\"\\1[PROTECTED_DOT]\\2\", string1)  \n",
    "    # now split (and remove empty lines)\n",
    "    lines_protected = [line + \".\" for line in string1_protected.split(\".\") if line]   \n",
    "    # now re-replace all \"[PROTECTED_DOT]\"s\n",
    "    lines = [line.replace(\"[PROTECTED_DOT]\", \".\") for line in lines_protected]\n",
    "    return lines"
   ]
  },
  {
   "cell_type": "code",
   "execution_count": 101,
   "metadata": {},
   "outputs": [],
   "source": [
    "x=split_into_sentences(s)# form array of sentences in one news \n",
    "    "
   ]
  },
  {
   "cell_type": "code",
   "execution_count": 102,
   "metadata": {},
   "outputs": [],
   "source": [
    "all_sent=[]\n",
    "for i in df:\n",
    "    preprocessed=preprocess(i)\n",
    "    sentence_list=split_into_sentences(preprocessed)\n",
    "    all_sent=all_sent+sentence_list\n",
    "    "
   ]
  },
  {
   "cell_type": "code",
   "execution_count": 105,
   "metadata": {},
   "outputs": [
    {
     "data": {
      "text/plain": [
       "(42441,)"
      ]
     },
     "execution_count": 105,
     "metadata": {},
     "output_type": "execute_result"
    }
   ],
   "source": [
    "arr = np.array(all_sent)\n",
    "arr.shape"
   ]
  },
  {
   "cell_type": "code",
   "execution_count": 106,
   "metadata": {},
   "outputs": [
    {
     "data": {
      "text/plain": [
       "'3.1.1'"
      ]
     },
     "execution_count": 106,
     "metadata": {},
     "output_type": "execute_result"
    }
   ],
   "source": [
    "import spacy\n",
    "spacy.__version__"
   ]
  },
  {
   "cell_type": "code",
   "execution_count": 107,
   "metadata": {},
   "outputs": [],
   "source": [
    "nlp=spacy.load(\"en_core_web_md\")"
   ]
  },
  {
   "cell_type": "code",
   "execution_count": 108,
   "metadata": {},
   "outputs": [],
   "source": [
    "import json\n",
    "f1=open('Final_NameEntity.json', 'w') "
   ]
  },
  {
   "cell_type": "code",
   "execution_count": 109,
   "metadata": {},
   "outputs": [],
   "source": [
    "for i in all_sent:\n",
    "    doc=nlp(i)\n",
    "    entities = []\n",
    "    labels = []\n",
    "    position_start = []\n",
    "    position_end = []\n",
    "    for ent in doc.ents:\n",
    "            entities.append(ent)\n",
    "            labels.append(ent.label_)\n",
    "            position_start.append(ent.start_char)\n",
    "            position_end.append(ent.end_char)\n",
    "\n",
    "    xf=[]\n",
    "    for i in range (len(entities)):\n",
    "            x=[]\n",
    "            x.append(str(entities[i]))\n",
    "            x.append(labels[i])\n",
    "            xf.append(x)\n",
    "    if len(xf)>0:\n",
    "        json.dump(xf,f1)\n",
    "\n"
   ]
  },
  {
   "cell_type": "code",
   "execution_count": 111,
   "metadata": {},
   "outputs": [],
   "source": [
    "f1.close()"
   ]
  },
  {
   "cell_type": "code",
   "execution_count": 25,
   "metadata": {},
   "outputs": [
    {
     "name": "stdout",
     "output_type": "stream",
     "text": [
      "['Sri Lanka', 'GPE']\n",
      "['Sri Lanka', 'GPE']\n",
      "['Pathfinder Foundation Study Group', 'ORG']\n",
      "['Sri Lanka', 'GPE']\n",
      "['Pathfinder Foundation Study Group', 'ORG']\n",
      "['post-Covid-19 Sri Lanka', 'ORG']\n",
      "['Sri Lanka', 'GPE']\n",
      "['Pathfinder Foundation Study Group', 'ORG']\n",
      "['post-Covid-19 Sri Lanka', 'ORG']\n",
      "['The Doha Round of Multilateral Trade Negotiations', 'EVENT']\n",
      "['Sri Lanka', 'GPE']\n",
      "['Pathfinder Foundation Study Group', 'ORG']\n",
      "['post-Covid-19 Sri Lanka', 'ORG']\n",
      "['The Doha Round of Multilateral Trade Negotiations', 'EVENT']\n",
      "['US', 'GPE']\n",
      "['Sri Lanka', 'GPE']\n",
      "['Pathfinder Foundation Study Group', 'ORG']\n",
      "['post-Covid-19 Sri Lanka', 'ORG']\n",
      "['The Doha Round of Multilateral Trade Negotiations', 'EVENT']\n",
      "['US', 'GPE']\n",
      "['WTO', 'ORG']\n",
      "['Sri Lanka', 'GPE']\n",
      "['Pathfinder Foundation Study Group', 'ORG']\n",
      "['post-Covid-19 Sri Lanka', 'ORG']\n",
      "['The Doha Round of Multilateral Trade Negotiations', 'EVENT']\n",
      "['US', 'GPE']\n",
      "['WTO', 'ORG']\n",
      "['Sri Lanka', 'GPE']\n",
      "['Sri Lanka', 'GPE']\n",
      "['Pathfinder Foundation Study Group', 'ORG']\n",
      "['post-Covid-19 Sri Lanka', 'ORG']\n",
      "['The Doha Round of Multilateral Trade Negotiations', 'EVENT']\n",
      "['US', 'GPE']\n",
      "['WTO', 'ORG']\n",
      "['Sri Lanka', 'GPE']\n",
      "['Sri Lankan', 'NORP']\n",
      "['Sri Lanka', 'GPE']\n",
      "['Pathfinder Foundation Study Group', 'ORG']\n",
      "['post-Covid-19 Sri Lanka', 'ORG']\n",
      "['The Doha Round of Multilateral Trade Negotiations', 'EVENT']\n",
      "['US', 'GPE']\n",
      "['WTO', 'ORG']\n",
      "['Sri Lanka', 'GPE']\n",
      "['Sri Lankan', 'NORP']\n",
      "['Sri Lanka’s', 'GPE']\n",
      "['Sri Lanka', 'GPE']\n",
      "['Pathfinder Foundation Study Group', 'ORG']\n",
      "['post-Covid-19 Sri Lanka', 'ORG']\n",
      "['The Doha Round of Multilateral Trade Negotiations', 'EVENT']\n",
      "['US', 'GPE']\n",
      "['WTO', 'ORG']\n",
      "['Sri Lanka', 'GPE']\n",
      "['Sri Lankan', 'NORP']\n",
      "['Sri Lanka’s', 'GPE']\n",
      "['199', 'MONEY']\n"
     ]
    }
   ],
   "source": [
    "xf=[]\n",
    "for i in range (10):\n",
    "    doc=nlp(all_sent[i])\n",
    "    entities = []\n",
    "    labels = []\n",
    "    position_start = []\n",
    "    position_end = []\n",
    "    for ent in doc.ents:\n",
    "\n",
    "        entities.append(ent)\n",
    "        labels.append(ent.label_)\n",
    "        position_start.append(ent.start_char)\n",
    "        position_end.append(ent.end_char)\n",
    "    for i in range (len(entities)):\n",
    "        x=[]\n",
    "        x.append(str(entities[i]))\n",
    "        x.append(labels[i])\n",
    "        xf.append(x)\n",
    "\n",
    "        for i in xf:\n",
    "            #if i[1]=='ORG':\n",
    "                \n",
    "            print(i)"
   ]
  },
  {
   "cell_type": "code",
   "execution_count": null,
   "metadata": {},
   "outputs": [],
   "source": []
  },
  {
   "cell_type": "code",
   "execution_count": null,
   "metadata": {},
   "outputs": [],
   "source": []
  },
  {
   "cell_type": "code",
   "execution_count": null,
   "metadata": {},
   "outputs": [],
   "source": []
  },
  {
   "cell_type": "code",
   "execution_count": null,
   "metadata": {},
   "outputs": [],
   "source": [
    "######starts IE and triples stufff"
   ]
  },
  {
   "cell_type": "code",
   "execution_count": 207,
   "metadata": {},
   "outputs": [],
   "source": [
    "#####\n",
    "def extract_relations(doc):\n",
    "\n",
    "    with doc.retokenize() as retokenizer:\n",
    "        \n",
    "        for ent in doc.ents:\n",
    "            if ent.label_ in [\"ORG\"]:\n",
    "                retokenizer.merge(ent)\n",
    "    \n",
    "    triples = []\n",
    "    for ent in doc.ents:\n",
    "        preps = [prep for prep in ent.root.head.children if prep.dep_ == \"prep\"]\n",
    "        for prep in preps:\n",
    "            for child in prep.children:\n",
    "                triples.append((ent.text, \"{} {}\".format(ent.root.head, prep), child.text))\n",
    "            \n",
    "    \n",
    "    return triples"
   ]
  },
  {
   "cell_type": "code",
   "execution_count": 215,
   "metadata": {},
   "outputs": [],
   "source": [
    "def extract_relations(doc):\n",
    "    \n",
    "    triples = []\n",
    "    with doc.retokenize() as retokenizer: \n",
    "        for ent in doc.ents:\n",
    "            if ent.label_ in [\"ORG\"]:\n",
    "                retokenizer.merge(ent)\n",
    "    print(doc.ents)\n",
    "    for ent in doc.ents:\n",
    "        print(ent)\n",
    "        print('asssss')\n",
    "        print(ent.root.head)\n",
    "        preps = [prep for prep in ent.root.head.children if prep.dep_ == \"nsubj\"]\n",
    "        print(preps)\n",
    "        for prep in preps:\n",
    "            for child in prep.children:\n",
    "                triples.append((ent.text, \"{} {}\".format(ent.root.head, prep), child.text))\n",
    "            \n",
    "    \n",
    "    return triples"
   ]
  },
  {
   "cell_type": "code",
   "execution_count": 216,
   "metadata": {},
   "outputs": [
    {
     "name": "stdout",
     "output_type": "stream",
     "text": [
      "(amzon, microsoft, Apple)\n",
      "amzon\n",
      "asssss\n",
      "bought\n",
      "[amzon]\n",
      "microsoft\n",
      "asssss\n",
      "bought\n",
      "[amzon]\n",
      "Apple\n",
      "asssss\n",
      "to\n",
      "[]\n"
     ]
    }
   ],
   "source": [
    "p=extract_relations(nlp(t))"
   ]
  },
  {
   "cell_type": "code",
   "execution_count": 201,
   "metadata": {},
   "outputs": [],
   "source": [
    "t=\"amzon bought microsoft including all its staffs and then sold it to the Apple\""
   ]
  },
  {
   "cell_type": "code",
   "execution_count": 203,
   "metadata": {},
   "outputs": [
    {
     "name": "stderr",
     "output_type": "stream",
     "text": [
      "/Users/sivapalansarangan/opt/anaconda3/lib/python3.7/site-packages/spacy/displacy/__init__.py:97: UserWarning: [W011] It looks like you're calling displacy.serve from within a Jupyter notebook or a similar environment. This likely means you're already running a local web server, so there's no need to make displaCy start another one. Instead, you should be able to replace displacy.serve with displacy.render to show the visualization.\n",
      "  warnings.warn(Warnings.W011)\n"
     ]
    },
    {
     "data": {
      "text/html": [
       "<span class=\"tex2jax_ignore\"><!DOCTYPE html>\n",
       "<html lang=\"en\">\n",
       "    <head>\n",
       "        <title>displaCy</title>\n",
       "    </head>\n",
       "\n",
       "    <body style=\"font-size: 16px; font-family: -apple-system, BlinkMacSystemFont, 'Segoe UI', Helvetica, Arial, sans-serif, 'Apple Color Emoji', 'Segoe UI Emoji', 'Segoe UI Symbol'; padding: 4rem 2rem; direction: ltr\">\n",
       "<figure style=\"margin-bottom: 6rem\">\n",
       "<svg xmlns=\"http://www.w3.org/2000/svg\" xmlns:xlink=\"http://www.w3.org/1999/xlink\" xml:lang=\"en\" id=\"2994b996e91641abb83218157b366e1f-0\" class=\"displacy\" width=\"2500\" height=\"574.5\" direction=\"ltr\" style=\"max-width: none; height: 574.5px; color: #000000; background: #ffffff; font-family: Arial; direction: ltr\">\n",
       "<text class=\"displacy-token\" fill=\"currentColor\" text-anchor=\"middle\" y=\"484.5\">\n",
       "    <tspan class=\"displacy-word\" fill=\"currentColor\" x=\"50\">amzon</tspan>\n",
       "    <tspan class=\"displacy-tag\" dy=\"2em\" fill=\"currentColor\" x=\"50\">PROPN</tspan>\n",
       "</text>\n",
       "\n",
       "<text class=\"displacy-token\" fill=\"currentColor\" text-anchor=\"middle\" y=\"484.5\">\n",
       "    <tspan class=\"displacy-word\" fill=\"currentColor\" x=\"225\">bought</tspan>\n",
       "    <tspan class=\"displacy-tag\" dy=\"2em\" fill=\"currentColor\" x=\"225\">VERB</tspan>\n",
       "</text>\n",
       "\n",
       "<text class=\"displacy-token\" fill=\"currentColor\" text-anchor=\"middle\" y=\"484.5\">\n",
       "    <tspan class=\"displacy-word\" fill=\"currentColor\" x=\"400\">microsoft</tspan>\n",
       "    <tspan class=\"displacy-tag\" dy=\"2em\" fill=\"currentColor\" x=\"400\">PROPN</tspan>\n",
       "</text>\n",
       "\n",
       "<text class=\"displacy-token\" fill=\"currentColor\" text-anchor=\"middle\" y=\"484.5\">\n",
       "    <tspan class=\"displacy-word\" fill=\"currentColor\" x=\"575\">including</tspan>\n",
       "    <tspan class=\"displacy-tag\" dy=\"2em\" fill=\"currentColor\" x=\"575\">VERB</tspan>\n",
       "</text>\n",
       "\n",
       "<text class=\"displacy-token\" fill=\"currentColor\" text-anchor=\"middle\" y=\"484.5\">\n",
       "    <tspan class=\"displacy-word\" fill=\"currentColor\" x=\"750\">all</tspan>\n",
       "    <tspan class=\"displacy-tag\" dy=\"2em\" fill=\"currentColor\" x=\"750\">DET</tspan>\n",
       "</text>\n",
       "\n",
       "<text class=\"displacy-token\" fill=\"currentColor\" text-anchor=\"middle\" y=\"484.5\">\n",
       "    <tspan class=\"displacy-word\" fill=\"currentColor\" x=\"925\">its</tspan>\n",
       "    <tspan class=\"displacy-tag\" dy=\"2em\" fill=\"currentColor\" x=\"925\">PRON</tspan>\n",
       "</text>\n",
       "\n",
       "<text class=\"displacy-token\" fill=\"currentColor\" text-anchor=\"middle\" y=\"484.5\">\n",
       "    <tspan class=\"displacy-word\" fill=\"currentColor\" x=\"1100\">staffs</tspan>\n",
       "    <tspan class=\"displacy-tag\" dy=\"2em\" fill=\"currentColor\" x=\"1100\">NOUN</tspan>\n",
       "</text>\n",
       "\n",
       "<text class=\"displacy-token\" fill=\"currentColor\" text-anchor=\"middle\" y=\"484.5\">\n",
       "    <tspan class=\"displacy-word\" fill=\"currentColor\" x=\"1275\">and</tspan>\n",
       "    <tspan class=\"displacy-tag\" dy=\"2em\" fill=\"currentColor\" x=\"1275\">CCONJ</tspan>\n",
       "</text>\n",
       "\n",
       "<text class=\"displacy-token\" fill=\"currentColor\" text-anchor=\"middle\" y=\"484.5\">\n",
       "    <tspan class=\"displacy-word\" fill=\"currentColor\" x=\"1450\">then</tspan>\n",
       "    <tspan class=\"displacy-tag\" dy=\"2em\" fill=\"currentColor\" x=\"1450\">ADV</tspan>\n",
       "</text>\n",
       "\n",
       "<text class=\"displacy-token\" fill=\"currentColor\" text-anchor=\"middle\" y=\"484.5\">\n",
       "    <tspan class=\"displacy-word\" fill=\"currentColor\" x=\"1625\">sold</tspan>\n",
       "    <tspan class=\"displacy-tag\" dy=\"2em\" fill=\"currentColor\" x=\"1625\">VERB</tspan>\n",
       "</text>\n",
       "\n",
       "<text class=\"displacy-token\" fill=\"currentColor\" text-anchor=\"middle\" y=\"484.5\">\n",
       "    <tspan class=\"displacy-word\" fill=\"currentColor\" x=\"1800\">it</tspan>\n",
       "    <tspan class=\"displacy-tag\" dy=\"2em\" fill=\"currentColor\" x=\"1800\">PRON</tspan>\n",
       "</text>\n",
       "\n",
       "<text class=\"displacy-token\" fill=\"currentColor\" text-anchor=\"middle\" y=\"484.5\">\n",
       "    <tspan class=\"displacy-word\" fill=\"currentColor\" x=\"1975\">to</tspan>\n",
       "    <tspan class=\"displacy-tag\" dy=\"2em\" fill=\"currentColor\" x=\"1975\">ADP</tspan>\n",
       "</text>\n",
       "\n",
       "<text class=\"displacy-token\" fill=\"currentColor\" text-anchor=\"middle\" y=\"484.5\">\n",
       "    <tspan class=\"displacy-word\" fill=\"currentColor\" x=\"2150\">the</tspan>\n",
       "    <tspan class=\"displacy-tag\" dy=\"2em\" fill=\"currentColor\" x=\"2150\">DET</tspan>\n",
       "</text>\n",
       "\n",
       "<text class=\"displacy-token\" fill=\"currentColor\" text-anchor=\"middle\" y=\"484.5\">\n",
       "    <tspan class=\"displacy-word\" fill=\"currentColor\" x=\"2325\">Apple</tspan>\n",
       "    <tspan class=\"displacy-tag\" dy=\"2em\" fill=\"currentColor\" x=\"2325\">PROPN</tspan>\n",
       "</text>\n",
       "\n",
       "<g class=\"displacy-arrow\">\n",
       "    <path class=\"displacy-arc\" id=\"arrow-2994b996e91641abb83218157b366e1f-0-0\" stroke-width=\"2px\" d=\"M70,439.5 C70,352.0 205.0,352.0 205.0,439.5\" fill=\"none\" stroke=\"currentColor\"/>\n",
       "    <text dy=\"1.25em\" style=\"font-size: 0.8em; letter-spacing: 1px\">\n",
       "        <textPath xlink:href=\"#arrow-2994b996e91641abb83218157b366e1f-0-0\" class=\"displacy-label\" startOffset=\"50%\" side=\"left\" fill=\"currentColor\" text-anchor=\"middle\">nsubj</textPath>\n",
       "    </text>\n",
       "    <path class=\"displacy-arrowhead\" d=\"M70,441.5 L62,429.5 78,429.5\" fill=\"currentColor\"/>\n",
       "</g>\n",
       "\n",
       "<g class=\"displacy-arrow\">\n",
       "    <path class=\"displacy-arc\" id=\"arrow-2994b996e91641abb83218157b366e1f-0-1\" stroke-width=\"2px\" d=\"M245,439.5 C245,352.0 380.0,352.0 380.0,439.5\" fill=\"none\" stroke=\"currentColor\"/>\n",
       "    <text dy=\"1.25em\" style=\"font-size: 0.8em; letter-spacing: 1px\">\n",
       "        <textPath xlink:href=\"#arrow-2994b996e91641abb83218157b366e1f-0-1\" class=\"displacy-label\" startOffset=\"50%\" side=\"left\" fill=\"currentColor\" text-anchor=\"middle\">dobj</textPath>\n",
       "    </text>\n",
       "    <path class=\"displacy-arrowhead\" d=\"M380.0,441.5 L388.0,429.5 372.0,429.5\" fill=\"currentColor\"/>\n",
       "</g>\n",
       "\n",
       "<g class=\"displacy-arrow\">\n",
       "    <path class=\"displacy-arc\" id=\"arrow-2994b996e91641abb83218157b366e1f-0-2\" stroke-width=\"2px\" d=\"M245,439.5 C245,264.5 560.0,264.5 560.0,439.5\" fill=\"none\" stroke=\"currentColor\"/>\n",
       "    <text dy=\"1.25em\" style=\"font-size: 0.8em; letter-spacing: 1px\">\n",
       "        <textPath xlink:href=\"#arrow-2994b996e91641abb83218157b366e1f-0-2\" class=\"displacy-label\" startOffset=\"50%\" side=\"left\" fill=\"currentColor\" text-anchor=\"middle\">prep</textPath>\n",
       "    </text>\n",
       "    <path class=\"displacy-arrowhead\" d=\"M560.0,441.5 L568.0,429.5 552.0,429.5\" fill=\"currentColor\"/>\n",
       "</g>\n",
       "\n",
       "<g class=\"displacy-arrow\">\n",
       "    <path class=\"displacy-arc\" id=\"arrow-2994b996e91641abb83218157b366e1f-0-3\" stroke-width=\"2px\" d=\"M770,439.5 C770,264.5 1085.0,264.5 1085.0,439.5\" fill=\"none\" stroke=\"currentColor\"/>\n",
       "    <text dy=\"1.25em\" style=\"font-size: 0.8em; letter-spacing: 1px\">\n",
       "        <textPath xlink:href=\"#arrow-2994b996e91641abb83218157b366e1f-0-3\" class=\"displacy-label\" startOffset=\"50%\" side=\"left\" fill=\"currentColor\" text-anchor=\"middle\">predet</textPath>\n",
       "    </text>\n",
       "    <path class=\"displacy-arrowhead\" d=\"M770,441.5 L762,429.5 778,429.5\" fill=\"currentColor\"/>\n",
       "</g>\n",
       "\n",
       "<g class=\"displacy-arrow\">\n",
       "    <path class=\"displacy-arc\" id=\"arrow-2994b996e91641abb83218157b366e1f-0-4\" stroke-width=\"2px\" d=\"M945,439.5 C945,352.0 1080.0,352.0 1080.0,439.5\" fill=\"none\" stroke=\"currentColor\"/>\n",
       "    <text dy=\"1.25em\" style=\"font-size: 0.8em; letter-spacing: 1px\">\n",
       "        <textPath xlink:href=\"#arrow-2994b996e91641abb83218157b366e1f-0-4\" class=\"displacy-label\" startOffset=\"50%\" side=\"left\" fill=\"currentColor\" text-anchor=\"middle\">poss</textPath>\n",
       "    </text>\n",
       "    <path class=\"displacy-arrowhead\" d=\"M945,441.5 L937,429.5 953,429.5\" fill=\"currentColor\"/>\n",
       "</g>\n",
       "\n",
       "<g class=\"displacy-arrow\">\n",
       "    <path class=\"displacy-arc\" id=\"arrow-2994b996e91641abb83218157b366e1f-0-5\" stroke-width=\"2px\" d=\"M595,439.5 C595,177.0 1090.0,177.0 1090.0,439.5\" fill=\"none\" stroke=\"currentColor\"/>\n",
       "    <text dy=\"1.25em\" style=\"font-size: 0.8em; letter-spacing: 1px\">\n",
       "        <textPath xlink:href=\"#arrow-2994b996e91641abb83218157b366e1f-0-5\" class=\"displacy-label\" startOffset=\"50%\" side=\"left\" fill=\"currentColor\" text-anchor=\"middle\">pobj</textPath>\n",
       "    </text>\n",
       "    <path class=\"displacy-arrowhead\" d=\"M1090.0,441.5 L1098.0,429.5 1082.0,429.5\" fill=\"currentColor\"/>\n",
       "</g>\n",
       "\n",
       "<g class=\"displacy-arrow\">\n",
       "    <path class=\"displacy-arc\" id=\"arrow-2994b996e91641abb83218157b366e1f-0-6\" stroke-width=\"2px\" d=\"M245,439.5 C245,89.5 1270.0,89.5 1270.0,439.5\" fill=\"none\" stroke=\"currentColor\"/>\n",
       "    <text dy=\"1.25em\" style=\"font-size: 0.8em; letter-spacing: 1px\">\n",
       "        <textPath xlink:href=\"#arrow-2994b996e91641abb83218157b366e1f-0-6\" class=\"displacy-label\" startOffset=\"50%\" side=\"left\" fill=\"currentColor\" text-anchor=\"middle\">cc</textPath>\n",
       "    </text>\n",
       "    <path class=\"displacy-arrowhead\" d=\"M1270.0,441.5 L1278.0,429.5 1262.0,429.5\" fill=\"currentColor\"/>\n",
       "</g>\n",
       "\n",
       "<g class=\"displacy-arrow\">\n",
       "    <path class=\"displacy-arc\" id=\"arrow-2994b996e91641abb83218157b366e1f-0-7\" stroke-width=\"2px\" d=\"M1470,439.5 C1470,352.0 1605.0,352.0 1605.0,439.5\" fill=\"none\" stroke=\"currentColor\"/>\n",
       "    <text dy=\"1.25em\" style=\"font-size: 0.8em; letter-spacing: 1px\">\n",
       "        <textPath xlink:href=\"#arrow-2994b996e91641abb83218157b366e1f-0-7\" class=\"displacy-label\" startOffset=\"50%\" side=\"left\" fill=\"currentColor\" text-anchor=\"middle\">advmod</textPath>\n",
       "    </text>\n",
       "    <path class=\"displacy-arrowhead\" d=\"M1470,441.5 L1462,429.5 1478,429.5\" fill=\"currentColor\"/>\n",
       "</g>\n",
       "\n",
       "<g class=\"displacy-arrow\">\n",
       "    <path class=\"displacy-arc\" id=\"arrow-2994b996e91641abb83218157b366e1f-0-8\" stroke-width=\"2px\" d=\"M245,439.5 C245,2.0 1625.0,2.0 1625.0,439.5\" fill=\"none\" stroke=\"currentColor\"/>\n",
       "    <text dy=\"1.25em\" style=\"font-size: 0.8em; letter-spacing: 1px\">\n",
       "        <textPath xlink:href=\"#arrow-2994b996e91641abb83218157b366e1f-0-8\" class=\"displacy-label\" startOffset=\"50%\" side=\"left\" fill=\"currentColor\" text-anchor=\"middle\">conj</textPath>\n",
       "    </text>\n",
       "    <path class=\"displacy-arrowhead\" d=\"M1625.0,441.5 L1633.0,429.5 1617.0,429.5\" fill=\"currentColor\"/>\n",
       "</g>\n",
       "\n",
       "<g class=\"displacy-arrow\">\n",
       "    <path class=\"displacy-arc\" id=\"arrow-2994b996e91641abb83218157b366e1f-0-9\" stroke-width=\"2px\" d=\"M1645,439.5 C1645,352.0 1780.0,352.0 1780.0,439.5\" fill=\"none\" stroke=\"currentColor\"/>\n",
       "    <text dy=\"1.25em\" style=\"font-size: 0.8em; letter-spacing: 1px\">\n",
       "        <textPath xlink:href=\"#arrow-2994b996e91641abb83218157b366e1f-0-9\" class=\"displacy-label\" startOffset=\"50%\" side=\"left\" fill=\"currentColor\" text-anchor=\"middle\">dobj</textPath>\n",
       "    </text>\n",
       "    <path class=\"displacy-arrowhead\" d=\"M1780.0,441.5 L1788.0,429.5 1772.0,429.5\" fill=\"currentColor\"/>\n",
       "</g>\n",
       "\n",
       "<g class=\"displacy-arrow\">\n",
       "    <path class=\"displacy-arc\" id=\"arrow-2994b996e91641abb83218157b366e1f-0-10\" stroke-width=\"2px\" d=\"M1645,439.5 C1645,264.5 1960.0,264.5 1960.0,439.5\" fill=\"none\" stroke=\"currentColor\"/>\n",
       "    <text dy=\"1.25em\" style=\"font-size: 0.8em; letter-spacing: 1px\">\n",
       "        <textPath xlink:href=\"#arrow-2994b996e91641abb83218157b366e1f-0-10\" class=\"displacy-label\" startOffset=\"50%\" side=\"left\" fill=\"currentColor\" text-anchor=\"middle\">dative</textPath>\n",
       "    </text>\n",
       "    <path class=\"displacy-arrowhead\" d=\"M1960.0,441.5 L1968.0,429.5 1952.0,429.5\" fill=\"currentColor\"/>\n",
       "</g>\n",
       "\n",
       "<g class=\"displacy-arrow\">\n",
       "    <path class=\"displacy-arc\" id=\"arrow-2994b996e91641abb83218157b366e1f-0-11\" stroke-width=\"2px\" d=\"M2170,439.5 C2170,352.0 2305.0,352.0 2305.0,439.5\" fill=\"none\" stroke=\"currentColor\"/>\n",
       "    <text dy=\"1.25em\" style=\"font-size: 0.8em; letter-spacing: 1px\">\n",
       "        <textPath xlink:href=\"#arrow-2994b996e91641abb83218157b366e1f-0-11\" class=\"displacy-label\" startOffset=\"50%\" side=\"left\" fill=\"currentColor\" text-anchor=\"middle\">det</textPath>\n",
       "    </text>\n",
       "    <path class=\"displacy-arrowhead\" d=\"M2170,441.5 L2162,429.5 2178,429.5\" fill=\"currentColor\"/>\n",
       "</g>\n",
       "\n",
       "<g class=\"displacy-arrow\">\n",
       "    <path class=\"displacy-arc\" id=\"arrow-2994b996e91641abb83218157b366e1f-0-12\" stroke-width=\"2px\" d=\"M1995,439.5 C1995,264.5 2310.0,264.5 2310.0,439.5\" fill=\"none\" stroke=\"currentColor\"/>\n",
       "    <text dy=\"1.25em\" style=\"font-size: 0.8em; letter-spacing: 1px\">\n",
       "        <textPath xlink:href=\"#arrow-2994b996e91641abb83218157b366e1f-0-12\" class=\"displacy-label\" startOffset=\"50%\" side=\"left\" fill=\"currentColor\" text-anchor=\"middle\">pobj</textPath>\n",
       "    </text>\n",
       "    <path class=\"displacy-arrowhead\" d=\"M2310.0,441.5 L2318.0,429.5 2302.0,429.5\" fill=\"currentColor\"/>\n",
       "</g>\n",
       "</svg>\n",
       "</figure>\n",
       "</body>\n",
       "</html></span>"
      ],
      "text/plain": [
       "<IPython.core.display.HTML object>"
      ]
     },
     "metadata": {},
     "output_type": "display_data"
    },
    {
     "name": "stdout",
     "output_type": "stream",
     "text": [
      "\n",
      "Using the 'dep' visualizer\n",
      "Serving on http://0.0.0.0:5000 ...\n",
      "\n",
      "Shutting down server on port 5000.\n"
     ]
    }
   ],
   "source": [
    "import spacy\n",
    "from spacy import displacy\n",
    "\n",
    "doc = nlp(t)\n",
    "displacy.serve(doc, style=\"dep\")"
   ]
  },
  {
   "cell_type": "code",
   "execution_count": 208,
   "metadata": {},
   "outputs": [
    {
     "name": "stdout",
     "output_type": "stream",
     "text": [
      "(amzon, microsoft, Apple)\n"
     ]
    }
   ],
   "source": [
    "p=extract_relations(nlp(t))"
   ]
  },
  {
   "cell_type": "code",
   "execution_count": 198,
   "metadata": {},
   "outputs": [
    {
     "name": "stdout",
     "output_type": "stream",
     "text": [
      "\n",
      "  Asia Asset Finance PLC (AAF)  has gained stable outlook with resilience overcoming growth headwinds in Covid-19 environment, leading Credit Rating Agency ICRA Lanka Limited affirmed.\n",
      "(Asia Asset Finance PLC, AAF, Covid-19 environment, Credit Rating Agency, ICRA Lanka Limited)\n",
      "[]\n",
      "\n",
      " It has revised the outlook of Asia Asset Finance PLC to BBB+[Stable] from BBB+(Negative)  considering growth performance with capital, operational, financial and managerial support from its parent company Muthoot Finance Limited (MFL) .\n",
      "(Asia Asset Finance PLC, Muthoot Finance Limited, MFL)\n",
      "[]\n",
      "\n",
      " The outlook revision to “Stable” from “Negative” reflects the improvement of the parent entity’s rating and the additional support extended by the parent, as well as the increase in exposure to asset backed lending, including Gold Loans.\n",
      "(Gold Loans,)\n",
      "[]\n",
      "\n",
      " Further, ICRA Lanka noted that the capital adequacy ratios of AAF remain an adequate buffer over the minimum capital requirement (set by the CBSL)  continues modest.\n",
      "(ICRA Lanka, AAF)\n",
      "[]\n",
      "\n",
      " The Company is required to have a minimum core capital requirement of $2.5 Billion by January 2022, which is likely to be met through internal generation and capital infusion by the parent company, ICRA Lanka noted.\n",
      "($2.5 Billion, January 2022, ICRA Lanka)\n",
      "[]\n",
      "\n",
      " Having a solid asset base in the company and the continuous support of MFL in regaining glitter in the Gold Loan business has become more resilient in the competition, thus expanding its Gold Loan base to $6.5 Billion, the Chief Executive Officer of Asia Asset Finance, Rajiv Gunawardena said.\n",
      "(MFL, Gold Loan, Gold Loan, $6.5 Billion, Asia Asset Finance, Rajiv Gunawardena)\n",
      "[]\n",
      "\n",
      " Further he revealed that the company recorded a tangible net worth of $1,991 Million and reported a net worth of $2,189 Million respectively as of December 2020, which was close to a minimum regulatory core capital requirement of $2000 Million by January 2021.\n",
      "($1,991 Million, $2,189 Million, December 2020, $2000 Million, January 2021)\n",
      "[]\n",
      "\n",
      " The parent entity aims to provide a capital infusion of $500 Million in Q1 of FY2022 followed by another capital infusion of $300 Million within the next year.\n",
      "($500 Million, FY2022, $300 Million, the next year)\n",
      "[]\n",
      "\n",
      " The ratings take into account MFL’s consent to provide capital support in the future as well to meet the growth and regulatory requirement, the agency said.\n",
      "(MFL,)\n",
      "[]\n",
      "\n",
      " Going forward, with the expected expansion in the Gold Loan portfolio, AAF expects to further reduce the dependency on public funds and improve the long-term funding sources such as Debentures, Term Loans from Banks and Securitized Borrowings.\n",
      "(Gold Loan, AAF)\n",
      "[]\n",
      "\n",
      " ICRA Lanka revealed that AAF has a fairly diversified funding profile comprising of retail Fixed Deposits, Debentures, Term Loans from Banks and Securitized Borrowings.\n",
      "(ICRA Lanka, AAF, Fixed Deposits)\n",
      "[]\n",
      "\n",
      " The funds from Fixed Deposits have moderated over the years with 50% of the funding base consisting of Fixed Deposits as in December 2020 in comparison to 52% in March 2020 and 57% in March 2019.\n",
      "(Fixed Deposits, the years, 50%, December 2020, 52%, March 2020, 57%, March 2019)\n",
      "________________________________\n",
      "________________________________\n",
      "[('57%', '% of', 'base')]\n",
      "\n",
      "   .\n",
      "()\n",
      "[]\n"
     ]
    }
   ],
   "source": [
    " for i in x:\n",
    "        print(\"\\n\" + i)\n",
    "        doc=nlp(i)\n",
    "        relations = extract_relations(doc)\n",
    "        print(relations)\n",
    "        "
   ]
  },
  {
   "cell_type": "code",
   "execution_count": null,
   "metadata": {},
   "outputs": [],
   "source": []
  },
  {
   "cell_type": "code",
   "execution_count": null,
   "metadata": {},
   "outputs": [],
   "source": []
  },
  {
   "cell_type": "code",
   "execution_count": null,
   "metadata": {},
   "outputs": [],
   "source": []
  },
  {
   "cell_type": "code",
   "execution_count": null,
   "metadata": {},
   "outputs": [],
   "source": []
  },
  {
   "cell_type": "code",
   "execution_count": null,
   "metadata": {},
   "outputs": [],
   "source": []
  },
  {
   "cell_type": "code",
   "execution_count": null,
   "metadata": {},
   "outputs": [],
   "source": [
    "####ends here the IE"
   ]
  },
  {
   "cell_type": "code",
   "execution_count": 129,
   "metadata": {},
   "outputs": [
    {
     "data": {
      "text/plain": [
       "24"
      ]
     },
     "execution_count": 129,
     "metadata": {},
     "output_type": "execute_result"
    }
   ],
   "source": [
    "import csv\n",
    "f = open('samp.csv', 'w')\n",
    "\n",
    "# create the csv writer\n",
    "writer = csv.writer(f)\n",
    "\n",
    "header=[\"Sentence\",\"Organizations\"]# write a row to the csv file\n",
    "writer.writerow(header)\n",
    "\n",
    "# close the file"
   ]
  },
  {
   "cell_type": "code",
   "execution_count": 130,
   "metadata": {},
   "outputs": [],
   "source": [
    "for i in all_sent:\n",
    "    doc=nlp(i)\n",
    "    for ent in doc.ents:\n",
    "        if ent.label_=='ORG':\n",
    "            l=[i,str(ent)]\n",
    "            writer.writerow(l)\n",
    "    \n",
    "    \n",
    "    "
   ]
  },
  {
   "cell_type": "code",
   "execution_count": 131,
   "metadata": {},
   "outputs": [],
   "source": [
    "f.close()"
   ]
  },
  {
   "cell_type": "code",
   "execution_count": null,
   "metadata": {},
   "outputs": [],
   "source": []
  }
 ],
 "metadata": {
  "kernelspec": {
   "display_name": "Python 3",
   "language": "python",
   "name": "python3"
  },
  "language_info": {
   "codemirror_mode": {
    "name": "ipython",
    "version": 3
   },
   "file_extension": ".py",
   "mimetype": "text/x-python",
   "name": "python",
   "nbconvert_exporter": "python",
   "pygments_lexer": "ipython3",
   "version": "3.7.6"
  }
 },
 "nbformat": 4,
 "nbformat_minor": 4
}
