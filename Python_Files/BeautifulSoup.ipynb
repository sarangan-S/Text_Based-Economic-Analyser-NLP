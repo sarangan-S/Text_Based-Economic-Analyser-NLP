{
 "cells": [
  {
   "cell_type": "code",
   "execution_count": 29,
   "metadata": {},
   "outputs": [
    {
     "name": "stdout",
     "output_type": "stream",
     "text": [
      "/Users/sivapalansarangan/sunday\n"
     ]
    }
   ],
   "source": [
    "%cd /Users/sivapalansarangan/sunday/"
   ]
  },
  {
   "cell_type": "code",
   "execution_count": 30,
   "metadata": {},
   "outputs": [],
   "source": [
    "import re"
   ]
  },
  {
   "cell_type": "code",
   "execution_count": 31,
   "metadata": {},
   "outputs": [],
   "source": [
    "from bs4 import BeautifulSoup"
   ]
  },
  {
   "cell_type": "code",
   "execution_count": 32,
   "metadata": {},
   "outputs": [
    {
     "data": {
      "text/plain": [
       "20"
      ]
     },
     "execution_count": 32,
     "metadata": {},
     "output_type": "execute_result"
    }
   ],
   "source": [
    "import csv\n",
    "f=open('New_sunday_oberver.csv','w')\n",
    "writ = csv.writer(f,delimiter=',')\n",
    "headers=['Date','Title','Content']\n",
    "writ.writerow(headers)"
   ]
  },
  {
   "cell_type": "code",
   "execution_count": 33,
   "metadata": {},
   "outputs": [
    {
     "name": "stdout",
     "output_type": "stream",
     "text": [
      "/Users/sivapalansarangan/sunday/scraped_pages\n"
     ]
    }
   ],
   "source": [
    "%cd /Users/sivapalansarangan/sunday/scraped_pages/"
   ]
  },
  {
   "cell_type": "code",
   "execution_count": 27,
   "metadata": {},
   "outputs": [],
   "source": [
    "filename='quotes-01-03-2020comba.html'\n",
    "\n",
    "content=''\n",
    "soup = BeautifulSoup(open(filename, encoding=\"utf8\"), \"html.parser\")\n",
    "titles=soup.find_all(\"h1\",{\"class\": \"title\"})\n",
    "Title=titles[0].text\n",
    "dat2=soup.find_all(\"span\",{\"class\": \"date-display-single\"})\n",
    "t=dat2[0].text\n",
    "date = t.replace(\",\",\"\")\n",
    "container=soup.find_all(\"div\",{\"class\": \"field-item even\"})\n",
    "\n",
    "paras=container[-1].find_all(\"p\")\n",
    "for p in paras:\n",
    "       content=content+p.text"
   ]
  },
  {
   "cell_type": "code",
   "execution_count": 13,
   "metadata": {},
   "outputs": [],
   "source": [
    "dat2=soup.find_all(\"span\",{\"class\": \"date-display-single\"})"
   ]
  },
  {
   "cell_type": "code",
   "execution_count": 24,
   "metadata": {},
   "outputs": [],
   "source": [
    "t=dat2[0].text\n",
    "text = t.replace(\",\",\"\")"
   ]
  },
  {
   "cell_type": "code",
   "execution_count": 25,
   "metadata": {},
   "outputs": [
    {
     "data": {
      "text/plain": [
       "'1 March 2020'"
      ]
     },
     "execution_count": 25,
     "metadata": {},
     "output_type": "execute_result"
    }
   ],
   "source": [
    "text"
   ]
  },
  {
   "cell_type": "code",
   "execution_count": null,
   "metadata": {},
   "outputs": [],
   "source": [
    "<div class=\"field-item even\">\n",
    "<span class=\"date-display-single\" property=\"dc:date\" datatype=\"xsd:dateTime\" content=\"2020-03-01T00:00:00+05:30\">1 March, 2020</span>\n",
    "</div>"
   ]
  },
  {
   "cell_type": "code",
   "execution_count": 28,
   "metadata": {},
   "outputs": [
    {
     "name": "stdout",
     "output_type": "stream",
     "text": [
      "1 March 2020\n",
      "ComBank rings bell to mark centenary year\n",
      "Commercial Bank of Ceylon PLC (Commercial Bank) rang the Opening Bell to commence trading at the Colombo Stock Exchange (CSE) on Thursday to celebrate its 100-year anniversary.The event was a part of a series of initiatives conducted by the bank to celebrate this significant milestone.Special market opening ceremonies are organised by the CSE as a platform for listed companies to celebrate corporate milestones and as a call to action for causes and developments that are significant to our business community, economy and society at large.CSE CEO Rajeeva Bandaranaike said, “Commercial Bank has continued to Support the Exchange, on initiatives to promote and present the Sri Lankan Capital Market amongst local and foreign investors which is very much appreciated, and I thank the leadership of the organisation for the support extended to CSE.”Chairman of Commercial Bank Dharma Dheerasinghe said, “The stock market is much more than a place for brokers to buy and sell shares of companies, which I believe is the common belief among the public and even within some in the business community.The Stock Exchange plays a far more pivotal role in allowing businesses access to capital and providing the opportunity for companies to enhance their visibility and public image.” \n"
     ]
    }
   ],
   "source": [
    "print(date)\n",
    "print(Title)\n",
    "print(content)"
   ]
  },
  {
   "cell_type": "code",
   "execution_count": 15,
   "metadata": {},
   "outputs": [
    {
     "name": "stdout",
     "output_type": "stream",
     "text": [
      "/Users/sivapalansarangan/sunday\n"
     ]
    }
   ],
   "source": [
    "%cd /Users/sivapalansarangan/sunday/"
   ]
  },
  {
   "cell_type": "code",
   "execution_count": 34,
   "metadata": {},
   "outputs": [],
   "source": [
    "#import path\n",
    "#D = \"/Users/sivapalansarangan/sunday\"\n",
    "#T = \".html\"\n",
    "import glob\n",
    "path = \"/Users/sivapalansarangan/sunday/scraped_pages/*.html\"\n",
    "\n",
    "for filename in glob.glob(path, recursive=True):\n",
    "    page=open(filename)\n",
    "    content=''\n",
    "    soup = BeautifulSoup(open(filename, encoding=\"utf8\"), \"html.parser\")\n",
    "    titles=soup.find_all(\"h1\",{\"class\": \"title\"})\n",
    "    Title=titles[0].text\n",
    "    dat2=soup.find_all(\"span\",{\"class\": \"date-display-single\"})\n",
    "    t=dat2[0].text\n",
    "    date = t.replace(\",\",\"\")\n",
    "    container=soup.find_all(\"div\",{\"class\": \"field-item even\"})\n",
    "    paras=container[-1].find_all(\"p\")\n",
    "    for p in paras:\n",
    "        content=content+p.text\n",
    "    \n",
    "    row=[date,Title,content]\n",
    "    writ.writerow(row)# when doing for all close the file...\n",
    "    \n",
    "   "
   ]
  },
  {
   "cell_type": "code",
   "execution_count": 35,
   "metadata": {},
   "outputs": [],
   "source": [
    "f.close()"
   ]
  },
  {
   "cell_type": "code",
   "execution_count": null,
   "metadata": {},
   "outputs": [],
   "source": []
  }
 ],
 "metadata": {
  "kernelspec": {
   "display_name": "Python 3",
   "language": "python",
   "name": "python3"
  },
  "language_info": {
   "codemirror_mode": {
    "name": "ipython",
    "version": 3
   },
   "file_extension": ".py",
   "mimetype": "text/x-python",
   "name": "python",
   "nbconvert_exporter": "python",
   "pygments_lexer": "ipython3",
   "version": "3.7.6"
  }
 },
 "nbformat": 4,
 "nbformat_minor": 4
}
